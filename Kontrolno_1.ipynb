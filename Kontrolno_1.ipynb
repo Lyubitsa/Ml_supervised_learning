{
 "cells": [
  {
   "cell_type": "markdown",
   "metadata": {
    "id": "ECE4KnXKPNpD"
   },
   "source": [
    "## Задача 1. `NumPy` и `CuPy`\n",
    "\n",
    "Използвайки функциите на numpy и cupy за създаване на матрици със случайни числа с големини `1500х1500` покажете, че са верни равенствата:\n",
    "\n",
    "- $(AB)^{-1} = B^{-1}A^{-1}$\n",
    "\n",
    "- $(A^T)^{-1}=(A^{-1})^T$\n",
    "\n",
    "- $(\\alpha A)^{-1}=(1/\\alpha)A^{-1}$,\n",
    "\n",
    "където $A$ и $B$ са матрици, а $\\alpha$ е реално число."
   ]
  },
  {
   "cell_type": "markdown",
   "metadata": {
    "id": "SqjK6IEdpCd4"
   },
   "source": [
    "- $(AB)^{-1} = B^{-1}A^{-1}$"
   ]
  },
  {
   "cell_type": "code",
   "execution_count": 123,
   "metadata": {
    "id": "MYpJ393LpUyO"
   },
   "outputs": [],
   "source": [
    "import pandas as pd\n",
    "import numpy as np\n",
    "import matplotlib.pyplot as plt\n",
    "import seaborn as sns    \n",
    "import statsmodels.api as sm \n",
    "import numpy as geek\n",
    "import sympy as sp\n",
    "from numpy.linalg import eig\n",
    "\n",
    "from sklearn.preprocessing import PolynomialFeatures\n",
    "from sklearn.linear_model import LogisticRegression\n",
    "from statsmodels.tsa.stattools import acf\n",
    "from statsmodels.stats.stattools import durbin_watson\n",
    "from statsmodels.stats.outliers_influence import variance_inflation_factor  \n",
    "from sklearn.linear_model import LogisticRegression, LinearRegression\n",
    "from sklearn.datasets import fetch_california_housing\n",
    "from sklearn.model_selection import train_test_split\n",
    "from sklearn.metrics import confusion_matrix, precision_score, recall_score, f1_score, mean_squared_error, mean_absolute_error\n",
    "from scipy.stats import pearsonr, spearmanr"
   ]
  },
  {
   "cell_type": "code",
   "execution_count": 2,
   "metadata": {
    "id": "MoPq2zwdpJd1"
   },
   "outputs": [],
   "source": [
    "A = np.random.rand(1500,1500)\n",
    "B = np.random.rand(1500,1500)"
   ]
  },
  {
   "cell_type": "code",
   "execution_count": 3,
   "metadata": {
    "colab": {
     "base_uri": "https://localhost:8080/"
    },
    "id": "JW-ox1FepS1c",
    "outputId": "dea91027-8059-4672-99ca-f575b92b2d35"
   },
   "outputs": [
    {
     "data": {
      "text/plain": [
       "array([[0.99557609, 0.52973638, 0.72699828, ..., 0.96983197, 0.69556643,\n",
       "        0.35755173],\n",
       "       [0.1358384 , 0.7703011 , 0.88407559, ..., 0.64894193, 0.58936171,\n",
       "        0.67798155],\n",
       "       [0.63753677, 0.76125394, 0.87636282, ..., 0.85825301, 0.81303857,\n",
       "        0.39579431],\n",
       "       ...,\n",
       "       [0.4549403 , 0.86760075, 0.52623332, ..., 0.79900665, 0.21042861,\n",
       "        0.52296789],\n",
       "       [0.93089557, 0.03607116, 0.26143198, ..., 0.45742179, 0.0215099 ,\n",
       "        0.06891209],\n",
       "       [0.05170997, 0.72159236, 0.45902535, ..., 0.35876861, 0.63755787,\n",
       "        0.13392172]])"
      ]
     },
     "execution_count": 3,
     "metadata": {},
     "output_type": "execute_result"
    }
   ],
   "source": [
    "A"
   ]
  },
  {
   "cell_type": "code",
   "execution_count": 4,
   "metadata": {
    "colab": {
     "base_uri": "https://localhost:8080/"
    },
    "id": "IcnvgCmbpTW1",
    "outputId": "5957ad9d-3d08-4858-8142-32a7cd94618f"
   },
   "outputs": [
    {
     "data": {
      "text/plain": [
       "array([[0.23227324, 0.68246889, 0.662564  , ..., 0.18708686, 0.96739823,\n",
       "        0.96979275],\n",
       "       [0.06723152, 0.52648324, 0.46140765, ..., 0.75956283, 0.13176973,\n",
       "        0.81455005],\n",
       "       [0.28402932, 0.37009335, 0.37054499, ..., 0.9646665 , 0.65950999,\n",
       "        0.69670206],\n",
       "       ...,\n",
       "       [0.84199977, 0.46785085, 0.0124918 , ..., 0.49785098, 0.78295616,\n",
       "        0.13319195],\n",
       "       [0.4137875 , 0.0716378 , 0.72964351, ..., 0.69930049, 0.14498911,\n",
       "        0.60043073],\n",
       "       [0.01665204, 0.83922945, 0.93174172, ..., 0.03544422, 0.7235679 ,\n",
       "        0.75162189]])"
      ]
     },
     "execution_count": 4,
     "metadata": {},
     "output_type": "execute_result"
    }
   ],
   "source": [
    "B"
   ]
  },
  {
   "cell_type": "code",
   "execution_count": 5,
   "metadata": {
    "colab": {
     "base_uri": "https://localhost:8080/"
    },
    "id": "JpjVaXeHpbfY",
    "outputId": "11d26faf-421b-4a76-b73d-8da2faa937a8"
   },
   "outputs": [
    {
     "data": {
      "text/plain": [
       "array([[377.2509687 , 384.51727344, 374.95367458, ..., 393.51951885,\n",
       "        385.3543175 , 380.57361518],\n",
       "       [369.63044053, 365.68694751, 374.07741596, ..., 384.4164126 ,\n",
       "        369.47076319, 369.13347334],\n",
       "       [368.16422962, 378.5706914 , 372.20688036, ..., 386.52992871,\n",
       "        368.69966329, 372.01337018],\n",
       "       ...,\n",
       "       [364.61728582, 370.32043058, 365.7471866 , ..., 386.73755374,\n",
       "        373.703016  , 364.9104018 ],\n",
       "       [368.50955355, 376.01033697, 376.14313145, ..., 389.16177344,\n",
       "        377.37479413, 376.10026964],\n",
       "       [365.66209795, 365.45548571, 375.88246569, ..., 377.36116754,\n",
       "        373.03057278, 372.58680652]])"
      ]
     },
     "execution_count": 5,
     "metadata": {},
     "output_type": "execute_result"
    }
   ],
   "source": [
    "AB = np.dot(A,B)\n",
    "AB"
   ]
  },
  {
   "cell_type": "code",
   "execution_count": 8,
   "metadata": {
    "colab": {
     "base_uri": "https://localhost:8080/"
    },
    "id": "9c96xA4rpbcY",
    "outputId": "375e2b40-9ca0-4b6d-f724-8c97bb756f6f"
   },
   "outputs": [
    {
     "data": {
      "text/plain": [
       "array([[-0.15686435,  0.23146292,  0.03741357, ...,  0.3602301 ,\n",
       "         0.09735325,  0.10079601],\n",
       "       [-0.02026861,  0.04972315,  0.13045798, ..., -0.15994103,\n",
       "        -0.18133894,  0.03264485],\n",
       "       [-0.07553563,  0.21558445, -0.16389436, ...,  0.33688218,\n",
       "         0.26747924,  0.17083708],\n",
       "       ...,\n",
       "       [-0.25877947,  0.59229152, -0.06188413, ...,  1.09718809,\n",
       "         0.52510171,  0.18155162],\n",
       "       [ 0.01473596, -0.06317888,  0.02337395, ...,  0.00254223,\n",
       "        -0.02172289, -0.01572146],\n",
       "       [-0.00550431, -0.08549932, -0.0126164 , ...,  0.03322109,\n",
       "         0.03448656,  0.02399814]])"
      ]
     },
     "execution_count": 8,
     "metadata": {},
     "output_type": "execute_result"
    }
   ],
   "source": [
    "inverseAB = np.linalg.inv(AB)\n",
    "inverseAB"
   ]
  },
  {
   "cell_type": "code",
   "execution_count": 9,
   "metadata": {
    "colab": {
     "base_uri": "https://localhost:8080/"
    },
    "id": "B_tCdz1npbZy",
    "outputId": "034a63a8-250c-4d97-bc6e-2e716b9e4a24"
   },
   "outputs": [
    {
     "data": {
      "text/plain": [
       "array([[-3.09077642e-02,  6.58821109e-02, -1.42452142e-02, ...,\n",
       "        -3.56596747e-02, -1.19912080e-02,  8.60495649e-03],\n",
       "       [ 2.02542426e-02,  2.04752149e-02,  2.12215379e-02, ...,\n",
       "        -5.00884975e-02,  8.80495712e-03, -1.56486668e-02],\n",
       "       [ 1.32923959e-03,  5.57495568e-02, -4.21215037e-02, ...,\n",
       "         1.18631572e-01,  1.08211784e-01, -2.28989183e-02],\n",
       "       ...,\n",
       "       [-1.07964428e-02, -1.71596600e-02, -4.40938460e-02, ...,\n",
       "         2.34466624e-01,  1.37382620e-01, -6.35988342e-02],\n",
       "       [-3.61534576e-02,  2.04224815e-02, -1.32380090e-02, ...,\n",
       "         9.17963721e-02,  9.48605750e-02,  5.32558392e-02],\n",
       "       [ 1.10149602e-03,  2.60315505e-04,  4.83590986e-02, ...,\n",
       "        -2.64401422e-01, -1.33844398e-01, -1.26131889e-02]])"
      ]
     },
     "execution_count": 9,
     "metadata": {},
     "output_type": "execute_result"
    }
   ],
   "source": [
    "AInv = np.linalg.inv(A)\n",
    "AInv"
   ]
  },
  {
   "cell_type": "code",
   "execution_count": 10,
   "metadata": {
    "colab": {
     "base_uri": "https://localhost:8080/"
    },
    "id": "nyls3VRepbXT",
    "outputId": "eb66c9c7-752f-4629-8014-7799b5d7c3e6"
   },
   "outputs": [
    {
     "data": {
      "text/plain": [
       "array([[-5.69977476e-02, -1.77220897e-01, -1.59107075e-01, ...,\n",
       "         1.18051608e-01, -9.38749468e-02, -1.22344540e-01],\n",
       "       [-3.22088962e-02, -1.33032286e-02, -2.09971205e-02, ...,\n",
       "        -1.08689049e-01,  1.61090465e-02,  2.53966810e-02],\n",
       "       [-8.70039840e-03, -1.95074987e-01, -1.16184056e-01, ...,\n",
       "         1.62500255e-01, -7.87553292e-02, -2.48015124e-01],\n",
       "       ...,\n",
       "       [-1.46785403e-01, -3.04464481e-01, -4.72408095e-01, ...,\n",
       "         4.48351245e-01, -3.08784851e-01, -2.72883739e-01],\n",
       "       [-5.78565324e-02, -1.30418819e-02,  9.37316042e-04, ...,\n",
       "        -7.21241591e-02,  3.69361933e-04,  7.37964299e-03],\n",
       "       [ 2.63094771e-02, -6.15422865e-03,  5.88522015e-02, ...,\n",
       "        -6.77115591e-02,  7.02634610e-02,  3.70672748e-02]])"
      ]
     },
     "execution_count": 10,
     "metadata": {},
     "output_type": "execute_result"
    }
   ],
   "source": [
    "BInv = np.linalg.inv(B)\n",
    "BInv"
   ]
  },
  {
   "cell_type": "code",
   "execution_count": 11,
   "metadata": {
    "colab": {
     "base_uri": "https://localhost:8080/"
    },
    "id": "rDp-901ipbUq",
    "outputId": "2bc1d88b-2ee7-40c3-b4f8-1d31624a3c45"
   },
   "outputs": [
    {
     "data": {
      "text/plain": [
       "array([[-0.15686435,  0.23146292,  0.03741357, ...,  0.3602301 ,\n",
       "         0.09735325,  0.10079601],\n",
       "       [-0.02026861,  0.04972315,  0.13045798, ..., -0.15994103,\n",
       "        -0.18133894,  0.03264485],\n",
       "       [-0.07553563,  0.21558445, -0.16389436, ...,  0.33688218,\n",
       "         0.26747924,  0.17083708],\n",
       "       ...,\n",
       "       [-0.25877947,  0.59229152, -0.06188413, ...,  1.09718809,\n",
       "         0.52510171,  0.18155162],\n",
       "       [ 0.01473596, -0.06317888,  0.02337395, ...,  0.00254223,\n",
       "        -0.02172289, -0.01572146],\n",
       "       [-0.00550431, -0.08549932, -0.0126164 , ...,  0.03322109,\n",
       "         0.03448656,  0.02399814]])"
      ]
     },
     "execution_count": 11,
     "metadata": {},
     "output_type": "execute_result"
    }
   ],
   "source": [
    "ResultIn = np.dot(BInv, AInv)\n",
    "ResultIn"
   ]
  },
  {
   "cell_type": "code",
   "execution_count": 12,
   "metadata": {
    "colab": {
     "base_uri": "https://localhost:8080/"
    },
    "id": "ZRcIlpHDpbR6",
    "outputId": "9afe6d8d-9d0f-48c5-f11a-cddceffde017"
   },
   "outputs": [
    {
     "data": {
      "text/plain": [
       "True"
      ]
     },
     "execution_count": 12,
     "metadata": {},
     "output_type": "execute_result"
    }
   ],
   "source": [
    "equal=np.allclose(inverseAB, ResultIn)\n",
    "equal"
   ]
  },
  {
   "cell_type": "markdown",
   "metadata": {
    "id": "-krEgoEPqLsN"
   },
   "source": [
    "- $(A^T)^{-1}=(A^{-1})^T$"
   ]
  },
  {
   "cell_type": "code",
   "execution_count": 13,
   "metadata": {
    "colab": {
     "base_uri": "https://localhost:8080/"
    },
    "id": "qU5pJf2wqYri",
    "outputId": "dbbb0c14-9d17-45e6-e2b6-b279e4a27f41"
   },
   "outputs": [
    {
     "data": {
      "text/plain": [
       "array([[0.99557609, 0.1358384 , 0.63753677, ..., 0.4549403 , 0.93089557,\n",
       "        0.05170997],\n",
       "       [0.52973638, 0.7703011 , 0.76125394, ..., 0.86760075, 0.03607116,\n",
       "        0.72159236],\n",
       "       [0.72699828, 0.88407559, 0.87636282, ..., 0.52623332, 0.26143198,\n",
       "        0.45902535],\n",
       "       ...,\n",
       "       [0.96983197, 0.64894193, 0.85825301, ..., 0.79900665, 0.45742179,\n",
       "        0.35876861],\n",
       "       [0.69556643, 0.58936171, 0.81303857, ..., 0.21042861, 0.0215099 ,\n",
       "        0.63755787],\n",
       "       [0.35755173, 0.67798155, 0.39579431, ..., 0.52296789, 0.06891209,\n",
       "        0.13392172]])"
      ]
     },
     "execution_count": 13,
     "metadata": {},
     "output_type": "execute_result"
    }
   ],
   "source": [
    "ATranspose = np.transpose(A)\n",
    "ATranspose"
   ]
  },
  {
   "cell_type": "code",
   "execution_count": 14,
   "metadata": {
    "colab": {
     "base_uri": "https://localhost:8080/"
    },
    "id": "t_gRk3V0qYok",
    "outputId": "6bd3bb2c-0e7b-462e-dbd3-acb4428d0414"
   },
   "outputs": [
    {
     "data": {
      "text/plain": [
       "array([[-3.09077642e-02,  2.02542426e-02,  1.32923959e-03, ...,\n",
       "        -1.07964428e-02, -3.61534576e-02,  1.10149602e-03],\n",
       "       [ 6.58821109e-02,  2.04752149e-02,  5.57495568e-02, ...,\n",
       "        -1.71596600e-02,  2.04224815e-02,  2.60315505e-04],\n",
       "       [-1.42452142e-02,  2.12215379e-02, -4.21215037e-02, ...,\n",
       "        -4.40938460e-02, -1.32380090e-02,  4.83590986e-02],\n",
       "       ...,\n",
       "       [-3.56596747e-02, -5.00884975e-02,  1.18631572e-01, ...,\n",
       "         2.34466624e-01,  9.17963721e-02, -2.64401422e-01],\n",
       "       [-1.19912080e-02,  8.80495712e-03,  1.08211784e-01, ...,\n",
       "         1.37382620e-01,  9.48605750e-02, -1.33844398e-01],\n",
       "       [ 8.60495649e-03, -1.56486668e-02, -2.28989183e-02, ...,\n",
       "        -6.35988342e-02,  5.32558392e-02, -1.26131889e-02]])"
      ]
     },
     "execution_count": 14,
     "metadata": {},
     "output_type": "execute_result"
    }
   ],
   "source": [
    "AtransInv = np.linalg.inv(ATranspose)\n",
    "AtransInv"
   ]
  },
  {
   "cell_type": "code",
   "execution_count": 15,
   "metadata": {
    "colab": {
     "base_uri": "https://localhost:8080/"
    },
    "id": "2uvWoy3RqYlv",
    "outputId": "986979e9-1e2a-41fd-cfa2-29c008f51768"
   },
   "outputs": [
    {
     "data": {
      "text/plain": [
       "array([[-3.09077642e-02,  6.58821109e-02, -1.42452142e-02, ...,\n",
       "        -3.56596747e-02, -1.19912080e-02,  8.60495649e-03],\n",
       "       [ 2.02542426e-02,  2.04752149e-02,  2.12215379e-02, ...,\n",
       "        -5.00884975e-02,  8.80495712e-03, -1.56486668e-02],\n",
       "       [ 1.32923959e-03,  5.57495568e-02, -4.21215037e-02, ...,\n",
       "         1.18631572e-01,  1.08211784e-01, -2.28989183e-02],\n",
       "       ...,\n",
       "       [-1.07964428e-02, -1.71596600e-02, -4.40938460e-02, ...,\n",
       "         2.34466624e-01,  1.37382620e-01, -6.35988342e-02],\n",
       "       [-3.61534576e-02,  2.04224815e-02, -1.32380090e-02, ...,\n",
       "         9.17963721e-02,  9.48605750e-02,  5.32558392e-02],\n",
       "       [ 1.10149602e-03,  2.60315505e-04,  4.83590986e-02, ...,\n",
       "        -2.64401422e-01, -1.33844398e-01, -1.26131889e-02]])"
      ]
     },
     "execution_count": 15,
     "metadata": {},
     "output_type": "execute_result"
    }
   ],
   "source": [
    "AInv = np.linalg.inv(A)\n",
    "AInv"
   ]
  },
  {
   "cell_type": "code",
   "execution_count": 17,
   "metadata": {
    "colab": {
     "base_uri": "https://localhost:8080/"
    },
    "id": "ioURQvZjqX0Z",
    "outputId": "16ada50c-5509-4c03-a8a0-503cffc54073"
   },
   "outputs": [
    {
     "data": {
      "text/plain": [
       "array([[-3.09077642e-02,  2.02542426e-02,  1.32923959e-03, ...,\n",
       "        -1.07964428e-02, -3.61534576e-02,  1.10149602e-03],\n",
       "       [ 6.58821109e-02,  2.04752149e-02,  5.57495568e-02, ...,\n",
       "        -1.71596600e-02,  2.04224815e-02,  2.60315505e-04],\n",
       "       [-1.42452142e-02,  2.12215379e-02, -4.21215037e-02, ...,\n",
       "        -4.40938460e-02, -1.32380090e-02,  4.83590986e-02],\n",
       "       ...,\n",
       "       [-3.56596747e-02, -5.00884975e-02,  1.18631572e-01, ...,\n",
       "         2.34466624e-01,  9.17963721e-02, -2.64401422e-01],\n",
       "       [-1.19912080e-02,  8.80495712e-03,  1.08211784e-01, ...,\n",
       "         1.37382620e-01,  9.48605750e-02, -1.33844398e-01],\n",
       "       [ 8.60495649e-03, -1.56486668e-02, -2.28989183e-02, ...,\n",
       "        -6.35988342e-02,  5.32558392e-02, -1.26131889e-02]])"
      ]
     },
     "execution_count": 17,
     "metadata": {},
     "output_type": "execute_result"
    }
   ],
   "source": [
    "AInvTrans= np.transpose(AInv)\n",
    "AInvTrans"
   ]
  },
  {
   "cell_type": "code",
   "execution_count": 18,
   "metadata": {
    "colab": {
     "base_uri": "https://localhost:8080/"
    },
    "id": "8jF-fTLpqybU",
    "outputId": "0e6723d4-e8d6-4b72-c5ef-055e793c01bd"
   },
   "outputs": [
    {
     "data": {
      "text/plain": [
       "True"
      ]
     },
     "execution_count": 18,
     "metadata": {},
     "output_type": "execute_result"
    }
   ],
   "source": [
    "equal2=np.allclose(AtransInv, AInvTrans)\n",
    "equal2"
   ]
  },
  {
   "cell_type": "markdown",
   "metadata": {
    "id": "r1UtWAmDq7Gm"
   },
   "source": [
    "- $(\\alpha A)^{-1}=(1/\\alpha)A^{-1}$,"
   ]
  },
  {
   "cell_type": "code",
   "execution_count": 94,
   "metadata": {
    "colab": {
     "base_uri": "https://localhost:8080/"
    },
    "id": "FbE3QmfDsm37",
    "outputId": "5a36dee8-495a-47cd-b2b9-b580a25781dc"
   },
   "outputs": [
    {
     "data": {
      "text/plain": [
       "array([[0.99557609, 0.52973638, 0.72699828, ..., 0.96983197, 0.69556643,\n",
       "        0.35755173],\n",
       "       [0.1358384 , 0.7703011 , 0.88407559, ..., 0.64894193, 0.58936171,\n",
       "        0.67798155],\n",
       "       [0.63753677, 0.76125394, 0.87636282, ..., 0.85825301, 0.81303857,\n",
       "        0.39579431],\n",
       "       ...,\n",
       "       [0.4549403 , 0.86760075, 0.52623332, ..., 0.79900665, 0.21042861,\n",
       "        0.52296789],\n",
       "       [0.93089557, 0.03607116, 0.26143198, ..., 0.45742179, 0.0215099 ,\n",
       "        0.06891209],\n",
       "       [0.05170997, 0.72159236, 0.45902535, ..., 0.35876861, 0.63755787,\n",
       "        0.13392172]])"
      ]
     },
     "execution_count": 94,
     "metadata": {},
     "output_type": "execute_result"
    }
   ],
   "source": [
    "A"
   ]
  },
  {
   "cell_type": "code",
   "execution_count": 102,
   "metadata": {
    "colab": {
     "base_uri": "https://localhost:8080/"
    },
    "id": "zKUt41VR7RrB",
    "outputId": "a29be9a2-c447-4b60-b305-2b0015b6f8ea"
   },
   "outputs": [
    {
     "data": {
      "text/plain": [
       "0.40931251767017485"
      ]
     },
     "execution_count": 102,
     "metadata": {},
     "output_type": "execute_result"
    }
   ],
   "source": [
    "a = geek.random.random_sample()\n",
    "a"
   ]
  },
  {
   "cell_type": "code",
   "execution_count": 105,
   "metadata": {
    "colab": {
     "base_uri": "https://localhost:8080/"
    },
    "id": "rMBsBI9Yq6OV",
    "outputId": "b3b2a60a-3eda-4f05-e849-d27eca251abb"
   },
   "outputs": [
    {
     "data": {
      "text/plain": [
       "array([[0.40750175, 0.21682773, 0.2975695 , ..., 0.39696437, 0.28470405,\n",
       "        0.1463504 ],\n",
       "       [0.05560036, 0.31529388, 0.3618632 , ..., 0.26562005, 0.24123313,\n",
       "        0.27750633],\n",
       "       [0.26095178, 0.31159077, 0.35870627, ..., 0.3512937 , 0.33278686,\n",
       "        0.16200357],\n",
       "       ...,\n",
       "       [0.18621276, 0.35511985, 0.21539388, ..., 0.32704342, 0.08613106,\n",
       "        0.21405731],\n",
       "       [0.38102721, 0.01476438, 0.10700738, ..., 0.18722847, 0.00880427,\n",
       "        0.02820658],\n",
       "       [0.02116554, 0.29535679, 0.18788482, ..., 0.14684848, 0.26096042,\n",
       "        0.05481583]])"
      ]
     },
     "execution_count": 105,
     "metadata": {},
     "output_type": "execute_result"
    }
   ],
   "source": [
    "realNumber = np.dot(A, a)\n",
    "realNumber\n"
   ]
  },
  {
   "cell_type": "code",
   "execution_count": 106,
   "metadata": {
    "colab": {
     "base_uri": "https://localhost:8080/"
    },
    "id": "UDQ5tcLQt30x",
    "outputId": "d0bf0831-b4d4-4e1c-e518-d54d09209455"
   },
   "outputs": [
    {
     "data": {
      "text/plain": [
       "array([[-7.55114071e-02,  1.60957968e-01, -3.48027817e-02, ...,\n",
       "        -8.71208995e-02, -2.92959719e-02,  2.10229498e-02],\n",
       "       [ 4.94835651e-02,  5.00234271e-02,  5.18467844e-02, ...,\n",
       "        -1.22372259e-01,  2.15115755e-02, -3.82315862e-02],\n",
       "       [ 3.24749312e-03,  1.36202912e-01, -1.02907930e-01, ...,\n",
       "         2.89831283e-01,  2.64374481e-01, -5.59448278e-02],\n",
       "       ...,\n",
       "       [-2.63770159e-02, -4.19231253e-02, -1.07726600e-01, ...,\n",
       "         5.72830329e-01,  3.35642363e-01, -1.55379646e-01],\n",
       "       [-8.83272708e-02,  4.98945930e-02, -3.23420575e-02, ...,\n",
       "         2.24269643e-01,  2.31755861e-01,  1.30110458e-01],\n",
       "       [ 2.69108805e-03,  6.35982273e-04,  1.18147129e-01, ...,\n",
       "        -6.45964661e-01, -3.26998057e-01, -3.08155465e-02]])"
      ]
     },
     "execution_count": 106,
     "metadata": {},
     "output_type": "execute_result"
    }
   ],
   "source": [
    "realNumberInv = np.linalg.inv(realNumber)\n",
    "realNumberInv"
   ]
  },
  {
   "cell_type": "code",
   "execution_count": 107,
   "metadata": {
    "colab": {
     "base_uri": "https://localhost:8080/"
    },
    "id": "Y0CO3lmjuLjw",
    "outputId": "7715cfc6-69cf-4901-ba03-2f0eb7e679be"
   },
   "outputs": [
    {
     "data": {
      "text/plain": [
       "array([[-7.55114071e-02,  1.60957968e-01, -3.48027817e-02, ...,\n",
       "        -8.71208995e-02, -2.92959719e-02,  2.10229498e-02],\n",
       "       [ 4.94835651e-02,  5.00234271e-02,  5.18467844e-02, ...,\n",
       "        -1.22372259e-01,  2.15115755e-02, -3.82315862e-02],\n",
       "       [ 3.24749312e-03,  1.36202912e-01, -1.02907930e-01, ...,\n",
       "         2.89831283e-01,  2.64374481e-01, -5.59448278e-02],\n",
       "       ...,\n",
       "       [-2.63770159e-02, -4.19231253e-02, -1.07726600e-01, ...,\n",
       "         5.72830329e-01,  3.35642363e-01, -1.55379646e-01],\n",
       "       [-8.83272708e-02,  4.98945930e-02, -3.23420575e-02, ...,\n",
       "         2.24269643e-01,  2.31755861e-01,  1.30110458e-01],\n",
       "       [ 2.69108805e-03,  6.35982273e-04,  1.18147129e-01, ...,\n",
       "        -6.45964661e-01, -3.26998057e-01, -3.08155465e-02]])"
      ]
     },
     "execution_count": 107,
     "metadata": {},
     "output_type": "execute_result"
    }
   ],
   "source": [
    "R = 1/a * AInv\n",
    "R"
   ]
  },
  {
   "cell_type": "code",
   "execution_count": 108,
   "metadata": {
    "colab": {
     "base_uri": "https://localhost:8080/"
    },
    "id": "J4vw2f5EudpU",
    "outputId": "88e992a2-725c-4e62-ddb0-8387846cedd2"
   },
   "outputs": [
    {
     "data": {
      "text/plain": [
       "True"
      ]
     },
     "execution_count": 108,
     "metadata": {},
     "output_type": "execute_result"
    }
   ],
   "source": [
    "equal3 = np.allclose(realNumberInv, R)\n",
    "equal3"
   ]
  },
  {
   "cell_type": "markdown",
   "metadata": {
    "id": "z7qPJHka8M88"
   },
   "source": [
    "## Задача 2. `Numpy`\n",
    "\n",
    "1. Разглеждаме квадратичната форма $3x^2 + 8xz + 2y^2 + 6z^2$.\n",
    "\n",
    "В `numpy`:\n",
    "\n",
    "а) съставете съответната й матрица и\n",
    "\n",
    "б) намерете нейните собствени стойности и вектори;\n",
    "\n",
    "в) какъв тип е матрицата $U$ от собствените й вектори и на какъв тип геометрична операция съответства $U.(x,y,z)^T$ ?;\n",
    "\n",
    "2*. Ако матрицата, свързана с дадена квадратична форма, има само положителни собствени стойности (, както е в горния случай), то какво свойство на квадратичната форма можете да посочите? (можете да потърсите в Интернет)"
   ]
  },
  {
   "cell_type": "code",
   "execution_count": 139,
   "metadata": {
    "colab": {
     "base_uri": "https://localhost:8080/",
     "height": 38
    },
    "id": "JXjbzak58S9V",
    "outputId": "6f03aac1-fe36-4bed-870e-4f5b9d9bc328"
   },
   "outputs": [
    {
     "data": {
      "text/latex": [
       "$\\displaystyle 3 x^{2} + 8 x z + 2 y^{2} + 6 z^{2}$"
      ],
      "text/plain": [
       "3*x**2 + 8*x*z + 2*y**2 + 6*z**2"
      ]
     },
     "execution_count": 139,
     "metadata": {},
     "output_type": "execute_result"
    }
   ],
   "source": [
    "x, y , z = sp.symbols('x y z' )\n",
    "q1 = 3*x**2 + 8*x*z + 2*y**2 +6*z**2\n",
    "q1"
   ]
  },
  {
   "cell_type": "code",
   "execution_count": 138,
   "metadata": {
    "colab": {
     "base_uri": "https://localhost:8080/"
    },
    "id": "vNbnigHy8T47",
    "outputId": "6f9a5ecf-7193-4e00-df07-a6f87783c07f"
   },
   "outputs": [
    {
     "data": {
      "text/plain": [
       "array([[3, 0, 4],\n",
       "       [0, 2, 0],\n",
       "       [4, 0, 6]])"
      ]
     },
     "execution_count": 138,
     "metadata": {},
     "output_type": "execute_result"
    }
   ],
   "source": [
    "q2 = np.array([[3, 0, 4],[0, 2, 0 ],[4,0,6]])\n",
    "q2"
   ]
  },
  {
   "cell_type": "code",
   "execution_count": 140,
   "metadata": {
    "colab": {
     "base_uri": "https://localhost:8080/"
    },
    "id": "qy_ya01C8Tur",
    "outputId": "d9ef1241-801a-4c14-9932-104df016be3b"
   },
   "outputs": [
    {
     "name": "stdout",
     "output_type": "stream",
     "text": [
      "E-value: [0.22799813 8.77200187 2.        ]\n",
      "E-vector [[-0.82192562 -0.56959484  0.        ]\n",
      " [ 0.          0.          1.        ]\n",
      " [ 0.56959484 -0.82192562  0.        ]]\n"
     ]
    }
   ],
   "source": [
    "w,v=eig(q2)\n",
    "print('E-value:', w)\n",
    "print('E-vector', v)"
   ]
  },
  {
   "cell_type": "code",
   "execution_count": 154,
   "metadata": {
    "colab": {
     "base_uri": "https://localhost:8080/"
    },
    "id": "1nCUGqma8Toy",
    "outputId": "454f1ff7-7321-4035-dcaa-793aea4cecf2"
   },
   "outputs": [
    {
     "data": {
      "text/plain": [
       "array([3, 2, 6])"
      ]
     },
     "execution_count": 154,
     "metadata": {},
     "output_type": "execute_result"
    }
   ],
   "source": [
    "xyz = np.array([3,2,6])\n",
    "xyz"
   ]
  },
  {
   "cell_type": "code",
   "execution_count": 155,
   "metadata": {
    "colab": {
     "base_uri": "https://localhost:8080/"
    },
    "id": "mhCMI54yOR5F",
    "outputId": "789f3d88-c1dc-4d2e-c451-26711a794365"
   },
   "outputs": [
    {
     "data": {
      "text/plain": [
       "array([[-0.82192562, -0.56959484,  0.        ],\n",
       "       [ 0.        ,  0.        ,  1.        ],\n",
       "       [ 0.56959484, -0.82192562,  0.        ]])"
      ]
     },
     "execution_count": 155,
     "metadata": {},
     "output_type": "execute_result"
    }
   ],
   "source": [
    "v=np.array(v)\n",
    "v"
   ]
  },
  {
   "cell_type": "code",
   "execution_count": 157,
   "metadata": {
    "colab": {
     "base_uri": "https://localhost:8080/"
    },
    "id": "lX8bRbyA8Tin",
    "outputId": "1228a0e7-d052-4b36-91e4-2e4139727b51"
   },
   "outputs": [
    {
     "data": {
      "text/plain": [
       "array([ 0.95179217, -6.64033822,  2.        ])"
      ]
     },
     "execution_count": 157,
     "metadata": {},
     "output_type": "execute_result"
    }
   ],
   "source": [
    "result =np.dot(xyz,v)\n",
    "result"
   ]
  },
  {
   "cell_type": "markdown",
   "metadata": {
    "id": "oZVdhh4Ou4kX"
   },
   "source": [
    "## Задача 3. Pandas и линейна регресия\n",
    "Използвайте клетката по-долу, за да прочетете данните. Нека колоната MedHouseVal да бъде нашия target. \n",
    "\n",
    "\n",
    "1.  Направете основен експлораторен анализ като вземете дескриптивни статистики.\n",
    "2.  Проверете корелация на Pearson и на Spearman между MedHouseVal и останалите променливи (може да го направите в loop, за по-бързо). Изведете и значимост на корелациите.\n",
    "3.  Направете хистограма на MedHouseVal. Кога използваме хистограма и кога колонна диаграмa (bar chart)?\n",
    "4.  Разделете данните на тренингови и тестови, като не забравяте да зададете random_state по ваш избор, за да могат резултатите ви да бъдат репродуцирани.\n",
    "5.  Направете линеен модел, като правите необходимите проверки за основните предположения на модела.\n",
    "6.  Какво означава коефициент на детерминация? Какъв е коефициентът на детерминация на модела? Колко е MSE върху тренинговите и върху тестовите данни?\n",
    "7.  Можете ли да подобрите модела чрез транформиране на данните по някакъв начин?\n"
   ]
  },
  {
   "cell_type": "markdown",
   "metadata": {
    "id": "D2YnBtbhZWvm"
   },
   "source": [
    "Можете ли да подобрите модела чрез транформиране на данните по някакъв начин? ДА, чрез категоризиране и мащабиране на данните"
   ]
  },
  {
   "cell_type": "code",
   "execution_count": 161,
   "metadata": {
    "id": "_1fyA9cCu-GM"
   },
   "outputs": [],
   "source": [
    "df = fetch_california_housing(as_frame=True)['frame']\n",
    "df.columns = [col.replace(' ', '_') for col in df.columns]"
   ]
  },
  {
   "cell_type": "code",
   "execution_count": 162,
   "metadata": {
    "colab": {
     "base_uri": "https://localhost:8080/",
     "height": 424
    },
    "id": "BSmKB9cfu93i",
    "outputId": "a2bfe582-c725-4164-be10-c5c78c2a57b4"
   },
   "outputs": [
    {
     "data": {
      "text/html": [
       "<div>\n",
       "<style scoped>\n",
       "    .dataframe tbody tr th:only-of-type {\n",
       "        vertical-align: middle;\n",
       "    }\n",
       "\n",
       "    .dataframe tbody tr th {\n",
       "        vertical-align: top;\n",
       "    }\n",
       "\n",
       "    .dataframe thead th {\n",
       "        text-align: right;\n",
       "    }\n",
       "</style>\n",
       "<table border=\"1\" class=\"dataframe\">\n",
       "  <thead>\n",
       "    <tr style=\"text-align: right;\">\n",
       "      <th></th>\n",
       "      <th>MedInc</th>\n",
       "      <th>HouseAge</th>\n",
       "      <th>AveRooms</th>\n",
       "      <th>AveBedrms</th>\n",
       "      <th>Population</th>\n",
       "      <th>AveOccup</th>\n",
       "      <th>Latitude</th>\n",
       "      <th>Longitude</th>\n",
       "      <th>MedHouseVal</th>\n",
       "    </tr>\n",
       "  </thead>\n",
       "  <tbody>\n",
       "    <tr>\n",
       "      <th>0</th>\n",
       "      <td>8.3252</td>\n",
       "      <td>41.0</td>\n",
       "      <td>6.984127</td>\n",
       "      <td>1.023810</td>\n",
       "      <td>322.0</td>\n",
       "      <td>2.555556</td>\n",
       "      <td>37.88</td>\n",
       "      <td>-122.23</td>\n",
       "      <td>4.526</td>\n",
       "    </tr>\n",
       "    <tr>\n",
       "      <th>1</th>\n",
       "      <td>8.3014</td>\n",
       "      <td>21.0</td>\n",
       "      <td>6.238137</td>\n",
       "      <td>0.971880</td>\n",
       "      <td>2401.0</td>\n",
       "      <td>2.109842</td>\n",
       "      <td>37.86</td>\n",
       "      <td>-122.22</td>\n",
       "      <td>3.585</td>\n",
       "    </tr>\n",
       "    <tr>\n",
       "      <th>2</th>\n",
       "      <td>7.2574</td>\n",
       "      <td>52.0</td>\n",
       "      <td>8.288136</td>\n",
       "      <td>1.073446</td>\n",
       "      <td>496.0</td>\n",
       "      <td>2.802260</td>\n",
       "      <td>37.85</td>\n",
       "      <td>-122.24</td>\n",
       "      <td>3.521</td>\n",
       "    </tr>\n",
       "    <tr>\n",
       "      <th>3</th>\n",
       "      <td>5.6431</td>\n",
       "      <td>52.0</td>\n",
       "      <td>5.817352</td>\n",
       "      <td>1.073059</td>\n",
       "      <td>558.0</td>\n",
       "      <td>2.547945</td>\n",
       "      <td>37.85</td>\n",
       "      <td>-122.25</td>\n",
       "      <td>3.413</td>\n",
       "    </tr>\n",
       "    <tr>\n",
       "      <th>4</th>\n",
       "      <td>3.8462</td>\n",
       "      <td>52.0</td>\n",
       "      <td>6.281853</td>\n",
       "      <td>1.081081</td>\n",
       "      <td>565.0</td>\n",
       "      <td>2.181467</td>\n",
       "      <td>37.85</td>\n",
       "      <td>-122.25</td>\n",
       "      <td>3.422</td>\n",
       "    </tr>\n",
       "    <tr>\n",
       "      <th>...</th>\n",
       "      <td>...</td>\n",
       "      <td>...</td>\n",
       "      <td>...</td>\n",
       "      <td>...</td>\n",
       "      <td>...</td>\n",
       "      <td>...</td>\n",
       "      <td>...</td>\n",
       "      <td>...</td>\n",
       "      <td>...</td>\n",
       "    </tr>\n",
       "    <tr>\n",
       "      <th>20635</th>\n",
       "      <td>1.5603</td>\n",
       "      <td>25.0</td>\n",
       "      <td>5.045455</td>\n",
       "      <td>1.133333</td>\n",
       "      <td>845.0</td>\n",
       "      <td>2.560606</td>\n",
       "      <td>39.48</td>\n",
       "      <td>-121.09</td>\n",
       "      <td>0.781</td>\n",
       "    </tr>\n",
       "    <tr>\n",
       "      <th>20636</th>\n",
       "      <td>2.5568</td>\n",
       "      <td>18.0</td>\n",
       "      <td>6.114035</td>\n",
       "      <td>1.315789</td>\n",
       "      <td>356.0</td>\n",
       "      <td>3.122807</td>\n",
       "      <td>39.49</td>\n",
       "      <td>-121.21</td>\n",
       "      <td>0.771</td>\n",
       "    </tr>\n",
       "    <tr>\n",
       "      <th>20637</th>\n",
       "      <td>1.7000</td>\n",
       "      <td>17.0</td>\n",
       "      <td>5.205543</td>\n",
       "      <td>1.120092</td>\n",
       "      <td>1007.0</td>\n",
       "      <td>2.325635</td>\n",
       "      <td>39.43</td>\n",
       "      <td>-121.22</td>\n",
       "      <td>0.923</td>\n",
       "    </tr>\n",
       "    <tr>\n",
       "      <th>20638</th>\n",
       "      <td>1.8672</td>\n",
       "      <td>18.0</td>\n",
       "      <td>5.329513</td>\n",
       "      <td>1.171920</td>\n",
       "      <td>741.0</td>\n",
       "      <td>2.123209</td>\n",
       "      <td>39.43</td>\n",
       "      <td>-121.32</td>\n",
       "      <td>0.847</td>\n",
       "    </tr>\n",
       "    <tr>\n",
       "      <th>20639</th>\n",
       "      <td>2.3886</td>\n",
       "      <td>16.0</td>\n",
       "      <td>5.254717</td>\n",
       "      <td>1.162264</td>\n",
       "      <td>1387.0</td>\n",
       "      <td>2.616981</td>\n",
       "      <td>39.37</td>\n",
       "      <td>-121.24</td>\n",
       "      <td>0.894</td>\n",
       "    </tr>\n",
       "  </tbody>\n",
       "</table>\n",
       "<p>20640 rows × 9 columns</p>\n",
       "</div>"
      ],
      "text/plain": [
       "       MedInc  HouseAge  AveRooms  ...  Latitude  Longitude  MedHouseVal\n",
       "0      8.3252      41.0  6.984127  ...     37.88    -122.23        4.526\n",
       "1      8.3014      21.0  6.238137  ...     37.86    -122.22        3.585\n",
       "2      7.2574      52.0  8.288136  ...     37.85    -122.24        3.521\n",
       "3      5.6431      52.0  5.817352  ...     37.85    -122.25        3.413\n",
       "4      3.8462      52.0  6.281853  ...     37.85    -122.25        3.422\n",
       "...       ...       ...       ...  ...       ...        ...          ...\n",
       "20635  1.5603      25.0  5.045455  ...     39.48    -121.09        0.781\n",
       "20636  2.5568      18.0  6.114035  ...     39.49    -121.21        0.771\n",
       "20637  1.7000      17.0  5.205543  ...     39.43    -121.22        0.923\n",
       "20638  1.8672      18.0  5.329513  ...     39.43    -121.32        0.847\n",
       "20639  2.3886      16.0  5.254717  ...     39.37    -121.24        0.894\n",
       "\n",
       "[20640 rows x 9 columns]"
      ]
     },
     "execution_count": 162,
     "metadata": {},
     "output_type": "execute_result"
    }
   ],
   "source": [
    "df"
   ]
  },
  {
   "cell_type": "code",
   "execution_count": 163,
   "metadata": {
    "colab": {
     "base_uri": "https://localhost:8080/"
    },
    "id": "iIpNdj0yu90w",
    "outputId": "4e55351e-528f-461b-d668-067cc2279496"
   },
   "outputs": [
    {
     "data": {
      "text/plain": [
       "Index(['MedInc', 'HouseAge', 'AveRooms', 'AveBedrms', 'Population', 'AveOccup',\n",
       "       'Latitude', 'Longitude', 'MedHouseVal'],\n",
       "      dtype='object')"
      ]
     },
     "execution_count": 163,
     "metadata": {},
     "output_type": "execute_result"
    }
   ],
   "source": [
    "df.columns"
   ]
  },
  {
   "cell_type": "code",
   "execution_count": 164,
   "metadata": {
    "colab": {
     "base_uri": "https://localhost:8080/"
    },
    "id": "hfdYaHlku9x2",
    "outputId": "00d55295-95eb-448f-eb58-d2aa94266f59"
   },
   "outputs": [
    {
     "data": {
      "text/plain": [
       "MedInc         float64\n",
       "HouseAge       float64\n",
       "AveRooms       float64\n",
       "AveBedrms      float64\n",
       "Population     float64\n",
       "AveOccup       float64\n",
       "Latitude       float64\n",
       "Longitude      float64\n",
       "MedHouseVal    float64\n",
       "dtype: object"
      ]
     },
     "execution_count": 164,
     "metadata": {},
     "output_type": "execute_result"
    }
   ],
   "source": [
    "df.dtypes"
   ]
  },
  {
   "cell_type": "code",
   "execution_count": 165,
   "metadata": {
    "colab": {
     "base_uri": "https://localhost:8080/",
     "height": 332
    },
    "id": "mOdZBy4Wvmdi",
    "outputId": "dd8ae7c3-9a9b-4c05-bc17-9cc14d46915c"
   },
   "outputs": [
    {
     "data": {
      "text/html": [
       "<div>\n",
       "<style scoped>\n",
       "    .dataframe tbody tr th:only-of-type {\n",
       "        vertical-align: middle;\n",
       "    }\n",
       "\n",
       "    .dataframe tbody tr th {\n",
       "        vertical-align: top;\n",
       "    }\n",
       "\n",
       "    .dataframe thead th {\n",
       "        text-align: right;\n",
       "    }\n",
       "</style>\n",
       "<table border=\"1\" class=\"dataframe\">\n",
       "  <thead>\n",
       "    <tr style=\"text-align: right;\">\n",
       "      <th></th>\n",
       "      <th>count</th>\n",
       "      <th>mean</th>\n",
       "      <th>std</th>\n",
       "      <th>min</th>\n",
       "      <th>25%</th>\n",
       "      <th>50%</th>\n",
       "      <th>75%</th>\n",
       "      <th>max</th>\n",
       "    </tr>\n",
       "  </thead>\n",
       "  <tbody>\n",
       "    <tr>\n",
       "      <th>MedInc</th>\n",
       "      <td>20640.0</td>\n",
       "      <td>3.870671</td>\n",
       "      <td>1.899822</td>\n",
       "      <td>0.499900</td>\n",
       "      <td>2.563400</td>\n",
       "      <td>3.534800</td>\n",
       "      <td>4.743250</td>\n",
       "      <td>15.000100</td>\n",
       "    </tr>\n",
       "    <tr>\n",
       "      <th>HouseAge</th>\n",
       "      <td>20640.0</td>\n",
       "      <td>28.639486</td>\n",
       "      <td>12.585558</td>\n",
       "      <td>1.000000</td>\n",
       "      <td>18.000000</td>\n",
       "      <td>29.000000</td>\n",
       "      <td>37.000000</td>\n",
       "      <td>52.000000</td>\n",
       "    </tr>\n",
       "    <tr>\n",
       "      <th>AveRooms</th>\n",
       "      <td>20640.0</td>\n",
       "      <td>5.429000</td>\n",
       "      <td>2.474173</td>\n",
       "      <td>0.846154</td>\n",
       "      <td>4.440716</td>\n",
       "      <td>5.229129</td>\n",
       "      <td>6.052381</td>\n",
       "      <td>141.909091</td>\n",
       "    </tr>\n",
       "    <tr>\n",
       "      <th>AveBedrms</th>\n",
       "      <td>20640.0</td>\n",
       "      <td>1.096675</td>\n",
       "      <td>0.473911</td>\n",
       "      <td>0.333333</td>\n",
       "      <td>1.006079</td>\n",
       "      <td>1.048780</td>\n",
       "      <td>1.099526</td>\n",
       "      <td>34.066667</td>\n",
       "    </tr>\n",
       "    <tr>\n",
       "      <th>Population</th>\n",
       "      <td>20640.0</td>\n",
       "      <td>1425.476744</td>\n",
       "      <td>1132.462122</td>\n",
       "      <td>3.000000</td>\n",
       "      <td>787.000000</td>\n",
       "      <td>1166.000000</td>\n",
       "      <td>1725.000000</td>\n",
       "      <td>35682.000000</td>\n",
       "    </tr>\n",
       "    <tr>\n",
       "      <th>AveOccup</th>\n",
       "      <td>20640.0</td>\n",
       "      <td>3.070655</td>\n",
       "      <td>10.386050</td>\n",
       "      <td>0.692308</td>\n",
       "      <td>2.429741</td>\n",
       "      <td>2.818116</td>\n",
       "      <td>3.282261</td>\n",
       "      <td>1243.333333</td>\n",
       "    </tr>\n",
       "    <tr>\n",
       "      <th>Latitude</th>\n",
       "      <td>20640.0</td>\n",
       "      <td>35.631861</td>\n",
       "      <td>2.135952</td>\n",
       "      <td>32.540000</td>\n",
       "      <td>33.930000</td>\n",
       "      <td>34.260000</td>\n",
       "      <td>37.710000</td>\n",
       "      <td>41.950000</td>\n",
       "    </tr>\n",
       "    <tr>\n",
       "      <th>Longitude</th>\n",
       "      <td>20640.0</td>\n",
       "      <td>-119.569704</td>\n",
       "      <td>2.003532</td>\n",
       "      <td>-124.350000</td>\n",
       "      <td>-121.800000</td>\n",
       "      <td>-118.490000</td>\n",
       "      <td>-118.010000</td>\n",
       "      <td>-114.310000</td>\n",
       "    </tr>\n",
       "    <tr>\n",
       "      <th>MedHouseVal</th>\n",
       "      <td>20640.0</td>\n",
       "      <td>2.068558</td>\n",
       "      <td>1.153956</td>\n",
       "      <td>0.149990</td>\n",
       "      <td>1.196000</td>\n",
       "      <td>1.797000</td>\n",
       "      <td>2.647250</td>\n",
       "      <td>5.000010</td>\n",
       "    </tr>\n",
       "  </tbody>\n",
       "</table>\n",
       "</div>"
      ],
      "text/plain": [
       "               count         mean  ...          75%           max\n",
       "MedInc       20640.0     3.870671  ...     4.743250     15.000100\n",
       "HouseAge     20640.0    28.639486  ...    37.000000     52.000000\n",
       "AveRooms     20640.0     5.429000  ...     6.052381    141.909091\n",
       "AveBedrms    20640.0     1.096675  ...     1.099526     34.066667\n",
       "Population   20640.0  1425.476744  ...  1725.000000  35682.000000\n",
       "AveOccup     20640.0     3.070655  ...     3.282261   1243.333333\n",
       "Latitude     20640.0    35.631861  ...    37.710000     41.950000\n",
       "Longitude    20640.0  -119.569704  ...  -118.010000   -114.310000\n",
       "MedHouseVal  20640.0     2.068558  ...     2.647250      5.000010\n",
       "\n",
       "[9 rows x 8 columns]"
      ]
     },
     "execution_count": 165,
     "metadata": {},
     "output_type": "execute_result"
    }
   ],
   "source": [
    "df.describe().T"
   ]
  },
  {
   "cell_type": "code",
   "execution_count": 166,
   "metadata": {
    "colab": {
     "base_uri": "https://localhost:8080/"
    },
    "id": "TkCWSQQGvmai",
    "outputId": "674ec461-4baa-4903-d265-eedd2a3691f7"
   },
   "outputs": [
    {
     "data": {
      "text/plain": [
       "MedInc            3.534800\n",
       "HouseAge         29.000000\n",
       "AveRooms          5.229129\n",
       "AveBedrms         1.048780\n",
       "Population     1166.000000\n",
       "AveOccup          2.818116\n",
       "Latitude         34.260000\n",
       "Longitude      -118.490000\n",
       "MedHouseVal       1.797000\n",
       "dtype: float64"
      ]
     },
     "execution_count": 166,
     "metadata": {},
     "output_type": "execute_result"
    }
   ],
   "source": [
    "df.median() # медиана"
   ]
  },
  {
   "cell_type": "code",
   "execution_count": 167,
   "metadata": {
    "colab": {
     "base_uri": "https://localhost:8080/"
    },
    "id": "ugNSyx0DvmYJ",
    "outputId": "5f1d1c71-ffd5-4f8b-edf7-ee019aeb91f1"
   },
   "outputs": [
    {
     "data": {
      "text/plain": [
       "MedInc            3.870671\n",
       "HouseAge         28.639486\n",
       "AveRooms          5.429000\n",
       "AveBedrms         1.096675\n",
       "Population     1425.476744\n",
       "AveOccup          3.070655\n",
       "Latitude         35.631861\n",
       "Longitude      -119.569704\n",
       "MedHouseVal       2.068558\n",
       "Name: mean, dtype: float64"
      ]
     },
     "execution_count": 167,
     "metadata": {},
     "output_type": "execute_result"
    }
   ],
   "source": [
    "df.describe().T['mean'] #аритметично"
   ]
  },
  {
   "cell_type": "code",
   "execution_count": 168,
   "metadata": {
    "colab": {
     "base_uri": "https://localhost:8080/",
     "height": 332
    },
    "id": "t7cF2D2KvmVe",
    "outputId": "da17216f-425b-4ee1-9c95-8bcf495b48d4"
   },
   "outputs": [
    {
     "data": {
      "text/html": [
       "<div>\n",
       "<style scoped>\n",
       "    .dataframe tbody tr th:only-of-type {\n",
       "        vertical-align: middle;\n",
       "    }\n",
       "\n",
       "    .dataframe tbody tr th {\n",
       "        vertical-align: top;\n",
       "    }\n",
       "\n",
       "    .dataframe thead th {\n",
       "        text-align: right;\n",
       "    }\n",
       "</style>\n",
       "<table border=\"1\" class=\"dataframe\">\n",
       "  <thead>\n",
       "    <tr style=\"text-align: right;\">\n",
       "      <th></th>\n",
       "      <th>MedInc</th>\n",
       "      <th>HouseAge</th>\n",
       "      <th>AveRooms</th>\n",
       "      <th>AveBedrms</th>\n",
       "      <th>Population</th>\n",
       "      <th>AveOccup</th>\n",
       "      <th>Latitude</th>\n",
       "      <th>Longitude</th>\n",
       "      <th>MedHouseVal</th>\n",
       "    </tr>\n",
       "  </thead>\n",
       "  <tbody>\n",
       "    <tr>\n",
       "      <th>MedInc</th>\n",
       "      <td>1.000000</td>\n",
       "      <td>-0.119034</td>\n",
       "      <td>0.326895</td>\n",
       "      <td>-0.062040</td>\n",
       "      <td>0.004834</td>\n",
       "      <td>0.018766</td>\n",
       "      <td>-0.079809</td>\n",
       "      <td>-0.015176</td>\n",
       "      <td>0.688075</td>\n",
       "    </tr>\n",
       "    <tr>\n",
       "      <th>HouseAge</th>\n",
       "      <td>-0.119034</td>\n",
       "      <td>1.000000</td>\n",
       "      <td>-0.153277</td>\n",
       "      <td>-0.077747</td>\n",
       "      <td>-0.296244</td>\n",
       "      <td>0.013191</td>\n",
       "      <td>0.011173</td>\n",
       "      <td>-0.108197</td>\n",
       "      <td>0.105623</td>\n",
       "    </tr>\n",
       "    <tr>\n",
       "      <th>AveRooms</th>\n",
       "      <td>0.326895</td>\n",
       "      <td>-0.153277</td>\n",
       "      <td>1.000000</td>\n",
       "      <td>0.847621</td>\n",
       "      <td>-0.072213</td>\n",
       "      <td>-0.004852</td>\n",
       "      <td>0.106389</td>\n",
       "      <td>-0.027540</td>\n",
       "      <td>0.151948</td>\n",
       "    </tr>\n",
       "    <tr>\n",
       "      <th>AveBedrms</th>\n",
       "      <td>-0.062040</td>\n",
       "      <td>-0.077747</td>\n",
       "      <td>0.847621</td>\n",
       "      <td>1.000000</td>\n",
       "      <td>-0.066197</td>\n",
       "      <td>-0.006181</td>\n",
       "      <td>0.069721</td>\n",
       "      <td>0.013344</td>\n",
       "      <td>-0.046701</td>\n",
       "    </tr>\n",
       "    <tr>\n",
       "      <th>Population</th>\n",
       "      <td>0.004834</td>\n",
       "      <td>-0.296244</td>\n",
       "      <td>-0.072213</td>\n",
       "      <td>-0.066197</td>\n",
       "      <td>1.000000</td>\n",
       "      <td>0.069863</td>\n",
       "      <td>-0.108785</td>\n",
       "      <td>0.099773</td>\n",
       "      <td>-0.024650</td>\n",
       "    </tr>\n",
       "    <tr>\n",
       "      <th>AveOccup</th>\n",
       "      <td>0.018766</td>\n",
       "      <td>0.013191</td>\n",
       "      <td>-0.004852</td>\n",
       "      <td>-0.006181</td>\n",
       "      <td>0.069863</td>\n",
       "      <td>1.000000</td>\n",
       "      <td>0.002366</td>\n",
       "      <td>0.002476</td>\n",
       "      <td>-0.023737</td>\n",
       "    </tr>\n",
       "    <tr>\n",
       "      <th>Latitude</th>\n",
       "      <td>-0.079809</td>\n",
       "      <td>0.011173</td>\n",
       "      <td>0.106389</td>\n",
       "      <td>0.069721</td>\n",
       "      <td>-0.108785</td>\n",
       "      <td>0.002366</td>\n",
       "      <td>1.000000</td>\n",
       "      <td>-0.924664</td>\n",
       "      <td>-0.144160</td>\n",
       "    </tr>\n",
       "    <tr>\n",
       "      <th>Longitude</th>\n",
       "      <td>-0.015176</td>\n",
       "      <td>-0.108197</td>\n",
       "      <td>-0.027540</td>\n",
       "      <td>0.013344</td>\n",
       "      <td>0.099773</td>\n",
       "      <td>0.002476</td>\n",
       "      <td>-0.924664</td>\n",
       "      <td>1.000000</td>\n",
       "      <td>-0.045967</td>\n",
       "    </tr>\n",
       "    <tr>\n",
       "      <th>MedHouseVal</th>\n",
       "      <td>0.688075</td>\n",
       "      <td>0.105623</td>\n",
       "      <td>0.151948</td>\n",
       "      <td>-0.046701</td>\n",
       "      <td>-0.024650</td>\n",
       "      <td>-0.023737</td>\n",
       "      <td>-0.144160</td>\n",
       "      <td>-0.045967</td>\n",
       "      <td>1.000000</td>\n",
       "    </tr>\n",
       "  </tbody>\n",
       "</table>\n",
       "</div>"
      ],
      "text/plain": [
       "               MedInc  HouseAge  AveRooms  ...  Latitude  Longitude  MedHouseVal\n",
       "MedInc       1.000000 -0.119034  0.326895  ... -0.079809  -0.015176     0.688075\n",
       "HouseAge    -0.119034  1.000000 -0.153277  ...  0.011173  -0.108197     0.105623\n",
       "AveRooms     0.326895 -0.153277  1.000000  ...  0.106389  -0.027540     0.151948\n",
       "AveBedrms   -0.062040 -0.077747  0.847621  ...  0.069721   0.013344    -0.046701\n",
       "Population   0.004834 -0.296244 -0.072213  ... -0.108785   0.099773    -0.024650\n",
       "AveOccup     0.018766  0.013191 -0.004852  ...  0.002366   0.002476    -0.023737\n",
       "Latitude    -0.079809  0.011173  0.106389  ...  1.000000  -0.924664    -0.144160\n",
       "Longitude   -0.015176 -0.108197 -0.027540  ... -0.924664   1.000000    -0.045967\n",
       "MedHouseVal  0.688075  0.105623  0.151948  ... -0.144160  -0.045967     1.000000\n",
       "\n",
       "[9 rows x 9 columns]"
      ]
     },
     "execution_count": 168,
     "metadata": {},
     "output_type": "execute_result"
    }
   ],
   "source": [
    "df.corr()"
   ]
  },
  {
   "cell_type": "code",
   "execution_count": 169,
   "metadata": {
    "colab": {
     "base_uri": "https://localhost:8080/",
     "height": 112
    },
    "id": "xECYSDbCvmS3",
    "outputId": "d836fe98-aeef-4982-d10f-32fe90b7ce07"
   },
   "outputs": [
    {
     "data": {
      "text/html": [
       "<div>\n",
       "<style scoped>\n",
       "    .dataframe tbody tr th:only-of-type {\n",
       "        vertical-align: middle;\n",
       "    }\n",
       "\n",
       "    .dataframe tbody tr th {\n",
       "        vertical-align: top;\n",
       "    }\n",
       "\n",
       "    .dataframe thead th {\n",
       "        text-align: right;\n",
       "    }\n",
       "</style>\n",
       "<table border=\"1\" class=\"dataframe\">\n",
       "  <thead>\n",
       "    <tr style=\"text-align: right;\">\n",
       "      <th></th>\n",
       "      <th>MedHouseVal</th>\n",
       "      <th>MedInc</th>\n",
       "    </tr>\n",
       "  </thead>\n",
       "  <tbody>\n",
       "    <tr>\n",
       "      <th>MedHouseVal</th>\n",
       "      <td>1.000000</td>\n",
       "      <td>0.688075</td>\n",
       "    </tr>\n",
       "    <tr>\n",
       "      <th>MedInc</th>\n",
       "      <td>0.688075</td>\n",
       "      <td>1.000000</td>\n",
       "    </tr>\n",
       "  </tbody>\n",
       "</table>\n",
       "</div>"
      ],
      "text/plain": [
       "             MedHouseVal    MedInc\n",
       "MedHouseVal     1.000000  0.688075\n",
       "MedInc          0.688075  1.000000"
      ]
     },
     "execution_count": 169,
     "metadata": {},
     "output_type": "execute_result"
    }
   ],
   "source": [
    "df[['MedHouseVal', 'MedInc']].corr() #най-висока  корелация / по default това е корелация по метода на Pearson"
   ]
  },
  {
   "cell_type": "code",
   "execution_count": 170,
   "metadata": {
    "colab": {
     "base_uri": "https://localhost:8080/"
    },
    "id": "4u02GaLhvmQE",
    "outputId": "83d28d5d-e78a-42dd-edd9-0701e59417f0"
   },
   "outputs": [
    {
     "data": {
      "text/plain": [
       "(0.6880752079585478, 0.0)"
      ]
     },
     "execution_count": 170,
     "metadata": {},
     "output_type": "execute_result"
    }
   ],
   "source": [
    "pearsonr(df.MedHouseVal, df.MedInc) "
   ]
  },
  {
   "cell_type": "code",
   "execution_count": 176,
   "metadata": {
    "colab": {
     "base_uri": "https://localhost:8080/",
     "height": 112
    },
    "id": "WpaU5zkxvmNk",
    "outputId": "e5125082-df4d-4676-d555-b97fff38c003"
   },
   "outputs": [
    {
     "data": {
      "text/html": [
       "<div>\n",
       "<style scoped>\n",
       "    .dataframe tbody tr th:only-of-type {\n",
       "        vertical-align: middle;\n",
       "    }\n",
       "\n",
       "    .dataframe tbody tr th {\n",
       "        vertical-align: top;\n",
       "    }\n",
       "\n",
       "    .dataframe thead th {\n",
       "        text-align: right;\n",
       "    }\n",
       "</style>\n",
       "<table border=\"1\" class=\"dataframe\">\n",
       "  <thead>\n",
       "    <tr style=\"text-align: right;\">\n",
       "      <th></th>\n",
       "      <th>MedHouseVal</th>\n",
       "      <th>AveOccup</th>\n",
       "    </tr>\n",
       "  </thead>\n",
       "  <tbody>\n",
       "    <tr>\n",
       "      <th>MedHouseVal</th>\n",
       "      <td>1.000000</td>\n",
       "      <td>-0.023737</td>\n",
       "    </tr>\n",
       "    <tr>\n",
       "      <th>AveOccup</th>\n",
       "      <td>-0.023737</td>\n",
       "      <td>1.000000</td>\n",
       "    </tr>\n",
       "  </tbody>\n",
       "</table>\n",
       "</div>"
      ],
      "text/plain": [
       "             MedHouseVal  AveOccup\n",
       "MedHouseVal     1.000000 -0.023737\n",
       "AveOccup       -0.023737  1.000000"
      ]
     },
     "execution_count": 176,
     "metadata": {},
     "output_type": "execute_result"
    }
   ],
   "source": [
    "df[['MedHouseVal', 'AveOccup']].corr() "
   ]
  },
  {
   "cell_type": "code",
   "execution_count": 177,
   "metadata": {
    "colab": {
     "base_uri": "https://localhost:8080/"
    },
    "id": "-pwpoBncQwT4",
    "outputId": "0365ba35-5e96-47e2-a46d-015039edabab"
   },
   "outputs": [
    {
     "data": {
      "text/plain": [
       "(-0.02373741295613435, 0.0006483442370042923)"
      ]
     },
     "execution_count": 177,
     "metadata": {},
     "output_type": "execute_result"
    }
   ],
   "source": [
    "pearsonr(df.MedHouseVal, df.AveOccup)"
   ]
  },
  {
   "cell_type": "code",
   "execution_count": 73,
   "metadata": {
    "colab": {
     "base_uri": "https://localhost:8080/"
    },
    "id": "QgIYZEwI2VcT",
    "outputId": "8e0774c5-d724-4648-abda-075e8f49691a"
   },
   "outputs": [
    {
     "data": {
      "text/plain": [
       "Index(['MedInc', 'HouseAge', 'AveRooms', 'AveBedrms', 'Population', 'AveOccup',\n",
       "       'Latitude', 'Longitude', 'MedHouseVal'],\n",
       "      dtype='object')"
      ]
     },
     "execution_count": 73,
     "metadata": {},
     "output_type": "execute_result"
    }
   ],
   "source": [
    "df.columns"
   ]
  },
  {
   "cell_type": "code",
   "execution_count": 79,
   "metadata": {
    "colab": {
     "base_uri": "https://localhost:8080/",
     "height": 214
    },
    "id": "a8VIEF1x1vjx",
    "outputId": "6734070b-2490-4b69-a6ca-48f5c29fb85b"
   },
   "outputs": [
    {
     "data": {
      "text/plain": [
       "<seaborn.axisgrid.PairGrid at 0x7fa901f1add0>"
      ]
     },
     "execution_count": 79,
     "metadata": {},
     "output_type": "execute_result"
    },
    {
     "data": {
      "image/png": "[encoded data removed]",
      "text/plain": [
       "<Figure size 1440x180 with 8 Axes>"
      ]
     },
     "metadata": {
      "needs_background": "light"
     },
     "output_type": "display_data"
    }
   ],
   "source": [
    "sns.pairplot(df, x_vars=['MedInc', 'HouseAge', 'AveRooms',  'AveBedrms',\n",
    "       'Population', 'AveOccup', 'Latitude', 'Longitude'], y_vars='MedHouseVal')"
   ]
  },
  {
   "cell_type": "code",
   "execution_count": 52,
   "metadata": {
    "colab": {
     "base_uri": "https://localhost:8080/",
     "height": 282
    },
    "id": "SH8UilC4vmKw",
    "outputId": "ec299804-3b12-48aa-c631-55c1c0d8bc02"
   },
   "outputs": [
    {
     "data": {
      "text/plain": [
       "<matplotlib.collections.PathCollection at 0x7fa9047c38d0>"
      ]
     },
     "execution_count": 52,
     "metadata": {},
     "output_type": "execute_result"
    },
    {
     "data": {
      "image/png": "[encoded data removed]",
      "text/plain": [
       "<Figure size 432x288 with 1 Axes>"
      ]
     },
     "metadata": {
      "needs_background": "light"
     },
     "output_type": "display_data"
    }
   ],
   "source": [
    "plt.scatter(df.MedHouseVal, df.MedInc)"
   ]
  },
  {
   "cell_type": "code",
   "execution_count": 178,
   "metadata": {
    "colab": {
     "base_uri": "https://localhost:8080/",
     "height": 282
    },
    "id": "F5J-KxcmvmIS",
    "outputId": "8c437719-37ea-48ce-c651-50f9ec8b7e27"
   },
   "outputs": [
    {
     "data": {
      "text/plain": [
       "<matplotlib.collections.PathCollection at 0x7fa8f8ac62d0>"
      ]
     },
     "execution_count": 178,
     "metadata": {},
     "output_type": "execute_result"
    },
    {
     "data": {
      "image/png": "[encoded data removed]",
      "text/plain": [
       "<Figure size 432x288 with 1 Axes>"
      ]
     },
     "metadata": {
      "needs_background": "light"
     },
     "output_type": "display_data"
    }
   ],
   "source": [
    "plt.scatter(df.MedHouseVal, df.AveOccup)"
   ]
  },
  {
   "cell_type": "code",
   "execution_count": 54,
   "metadata": {
    "colab": {
     "base_uri": "https://localhost:8080/"
    },
    "id": "-8Nwd1_nvmFe",
    "outputId": "e71165c6-7d99-48a9-97cd-a4fc00d7310f"
   },
   "outputs": [
    {
     "data": {
      "text/plain": [
       "MedInc          19.624998\n",
       "HouseAge         7.592663\n",
       "AveRooms        47.956351\n",
       "AveBedrms       45.358192\n",
       "Population       2.936078\n",
       "AveOccup         1.099530\n",
       "Latitude       568.497332\n",
       "Longitude      640.064211\n",
       "MedHouseVal      9.285659\n",
       "dtype: float64"
      ]
     },
     "execution_count": 54,
     "metadata": {},
     "output_type": "execute_result"
    }
   ],
   "source": [
    "pd.Series([variance_inflation_factor(df.values, i) \n",
    "               for i in range(df.shape[1])], \n",
    "              index=df.columns)"
   ]
  },
  {
   "cell_type": "code",
   "execution_count": 187,
   "metadata": {
    "colab": {
     "base_uri": "https://localhost:8080/",
     "height": 131
    },
    "id": "InLY-7hdaNrK",
    "outputId": "bc9a6aee-b22c-4933-e051-4726423045c5"
   },
   "outputs": [
    {
     "ename": "SyntaxError",
     "evalue": "ignored",
     "output_type": "error",
     "traceback": [
      "\u001b[0;36m  File \u001b[0;32m\"<ipython-input-187-715aac03c0ed>\"\u001b[0;36m, line \u001b[0;32m1\u001b[0m\n\u001b[0;31m    df.drop(columns=['Longitude', inplace=True)\u001b[0m\n\u001b[0m                                         ^\u001b[0m\n\u001b[0;31mSyntaxError\u001b[0m\u001b[0;31m:\u001b[0m invalid syntax\n"
     ]
    }
   ],
   "source": [
    "df.drop(columns=['Longitude', inplace=True)"
   ]
  },
  {
   "cell_type": "code",
   "execution_count": 182,
   "metadata": {
    "colab": {
     "base_uri": "https://localhost:8080/"
    },
    "id": "4HWGI3i2ac0I",
    "outputId": "55755838-f299-4bc7-888c-a986bf4d376a"
   },
   "outputs": [
    {
     "data": {
      "text/plain": [
       "MedInc         18.639889\n",
       "HouseAge        7.346583\n",
       "AveRooms       44.714760\n",
       "AveBedrms      42.072000\n",
       "Population      2.796280\n",
       "AveOccup        1.099394\n",
       "Latitude       22.873934\n",
       "MedHouseVal     9.193500\n",
       "dtype: float64"
      ]
     },
     "execution_count": 182,
     "metadata": {},
     "output_type": "execute_result"
    }
   ],
   "source": [
    "pd.Series([variance_inflation_factor(df.values, i) \n",
    "               for i in range(df.shape[1])], \n",
    "              index=df.columns)"
   ]
  },
  {
   "cell_type": "code",
   "execution_count": 184,
   "metadata": {
    "id": "dIsyOh1AahRb"
   },
   "outputs": [],
   "source": [
    "df.drop(columns=['AveRooms'], inplace=True)"
   ]
  },
  {
   "cell_type": "code",
   "execution_count": 189,
   "metadata": {
    "id": "UjhyY4pyauMR"
   },
   "outputs": [],
   "source": [
    "df.drop(columns=['Latitude'], inplace=True)"
   ]
  },
  {
   "cell_type": "code",
   "execution_count": 190,
   "metadata": {
    "colab": {
     "base_uri": "https://localhost:8080/"
    },
    "id": "BHNHknQCayu3",
    "outputId": "bb6497e4-3249-4e37-cff7-e2b6fd48aacd"
   },
   "outputs": [
    {
     "data": {
      "text/plain": [
       "MedInc         8.855104\n",
       "HouseAge       4.156145\n",
       "AveBedrms      4.264253\n",
       "Population     2.223926\n",
       "AveOccup       1.098671\n",
       "MedHouseVal    8.607339\n",
       "dtype: float64"
      ]
     },
     "execution_count": 190,
     "metadata": {},
     "output_type": "execute_result"
    }
   ],
   "source": [
    "pd.Series([variance_inflation_factor(df.values, i) \n",
    "               for i in range(df.shape[1])], \n",
    "              index=df.columns)"
   ]
  },
  {
   "cell_type": "code",
   "execution_count": 55,
   "metadata": {
    "id": "Los6qjgiyKs5"
   },
   "outputs": [],
   "source": [
    "lin_reg = LinearRegression(fit_intercept=True)"
   ]
  },
  {
   "cell_type": "code",
   "execution_count": 56,
   "metadata": {
    "id": "aLo7NcSKyKqI"
   },
   "outputs": [],
   "source": [
    "y = df.MedHouseVal.to_numpy()\n",
    "X = df.MedInc.to_numpy()"
   ]
  },
  {
   "cell_type": "code",
   "execution_count": 57,
   "metadata": {
    "colab": {
     "base_uri": "https://localhost:8080/"
    },
    "id": "si12QGg9yKnb",
    "outputId": "559b069c-d462-4311-d0b0-90dbe80ed179"
   },
   "outputs": [
    {
     "data": {
      "text/plain": [
       "array([4.526, 3.585, 3.521, ..., 0.923, 0.847, 0.894])"
      ]
     },
     "execution_count": 57,
     "metadata": {},
     "output_type": "execute_result"
    }
   ],
   "source": [
    "y"
   ]
  },
  {
   "cell_type": "code",
   "execution_count": 59,
   "metadata": {
    "id": "XloBEP6RyKlb"
   },
   "outputs": [],
   "source": [
    "X_train, X_test, y_train, y_test = train_test_split(X, y, train_size=0.7, random_state=22)"
   ]
  },
  {
   "cell_type": "code",
   "execution_count": 192,
   "metadata": {
    "id": "A3Tj0SFKyKiV"
   },
   "outputs": [],
   "source": [
    "X_train = X_train.reshape(-1, 1)\n",
    "X_test = X_test.reshape(-1, 1)"
   ]
  },
  {
   "cell_type": "code",
   "execution_count": 193,
   "metadata": {
    "colab": {
     "base_uri": "https://localhost:8080/"
    },
    "id": "uKZgikSp3kil",
    "outputId": "af9dffb3-7a3f-4eda-d2fd-2d40141077c7"
   },
   "outputs": [
    {
     "name": "stdout",
     "output_type": "stream",
     "text": [
      "                                 OLS Regression Results                                \n",
      "=======================================================================================\n",
      "Dep. Variable:                      y   R-squared (uncentered):                   0.866\n",
      "Model:                            OLS   Adj. R-squared (uncentered):              0.866\n",
      "Method:                 Least Squares   F-statistic:                          9.300e+04\n",
      "Date:                Wed, 01 Dec 2021   Prob (F-statistic):                        0.00\n",
      "Time:                        19:17:28   Log-Likelihood:                         -18506.\n",
      "No. Observations:               14447   AIC:                                  3.701e+04\n",
      "Df Residuals:                   14446   BIC:                                  3.702e+04\n",
      "Df Model:                           1                                                  \n",
      "Covariance Type:            nonrobust                                                  \n",
      "==============================================================================\n",
      "                 coef    std err          t      P>|t|      [0.025      0.975]\n",
      "------------------------------------------------------------------------------\n",
      "x1             0.5125      0.002    304.955      0.000       0.509       0.516\n",
      "==============================================================================\n",
      "Omnibus:                     2644.565   Durbin-Watson:                   1.976\n",
      "Prob(Omnibus):                  0.000   Jarque-Bera (JB):             6899.870\n",
      "Skew:                           1.000   Prob(JB):                         0.00\n",
      "Kurtosis:                       5.731   Cond. No.                         1.00\n",
      "==============================================================================\n",
      "\n",
      "Warnings:\n",
      "[1] Standard Errors assume that the covariance matrix of the errors is correctly specified.\n"
     ]
    }
   ],
   "source": [
    "reg = sm.OLS(y_train, X_train).fit()\n",
    "print(reg.summary())"
   ]
  },
  {
   "cell_type": "code",
   "execution_count": 194,
   "metadata": {
    "colab": {
     "base_uri": "https://localhost:8080/"
    },
    "id": "AldA8KayyKfo",
    "outputId": "711ddb74-229d-4b8d-cbb5-0148bd00e9bf"
   },
   "outputs": [
    {
     "data": {
      "text/plain": [
       "LinearRegression()"
      ]
     },
     "execution_count": 194,
     "metadata": {},
     "output_type": "execute_result"
    }
   ],
   "source": [
    "lin_reg.fit(X_train, y_train)"
   ]
  },
  {
   "cell_type": "code",
   "execution_count": 195,
   "metadata": {
    "colab": {
     "base_uri": "https://localhost:8080/"
    },
    "id": "DbppQO0xvmCh",
    "outputId": "a69006bc-2942-4940-ecec-2f7e6a456d81"
   },
   "outputs": [
    {
     "data": {
      "text/plain": [
       "array([0.41844705])"
      ]
     },
     "execution_count": 195,
     "metadata": {},
     "output_type": "execute_result"
    }
   ],
   "source": [
    "lin_reg.coef_"
   ]
  },
  {
   "cell_type": "code",
   "execution_count": 196,
   "metadata": {
    "colab": {
     "base_uri": "https://localhost:8080/"
    },
    "id": "bfk1tC03zBE4",
    "outputId": "6b61bb0b-3a4b-4e8a-c4f9-13b7cecfc1e9"
   },
   "outputs": [
    {
     "data": {
      "text/plain": [
       "0.4522226496890027"
      ]
     },
     "execution_count": 196,
     "metadata": {},
     "output_type": "execute_result"
    }
   ],
   "source": [
    "lin_reg.intercept_"
   ]
  },
  {
   "cell_type": "code",
   "execution_count": 64,
   "metadata": {
    "id": "sHRBnfRqzBBb"
   },
   "outputs": [],
   "source": [
    "y_hat_train = lin_reg.predict(X_train)"
   ]
  },
  {
   "cell_type": "code",
   "execution_count": 197,
   "metadata": {
    "colab": {
     "base_uri": "https://localhost:8080/",
     "height": 421
    },
    "id": "Fom1IaXjzA_Z",
    "outputId": "91ee2bc2-7a83-40b6-ea8c-ffd8062fd43b"
   },
   "outputs": [
    {
     "data": {
      "text/plain": [
       "[<matplotlib.lines.Line2D at 0x7fa8f7f20350>]"
      ]
     },
     "execution_count": 197,
     "metadata": {},
     "output_type": "execute_result"
    },
    {
     "data": {
      "image/png": "[encoded data removed]",
      "text/plain": [
       "<Figure size 720x432 with 1 Axes>"
      ]
     },
     "metadata": {
      "needs_background": "light"
     },
     "output_type": "display_data"
    }
   ],
   "source": [
    "plt.figure(figsize=(10, 6))\n",
    "plt.scatter(X_train, y_train)\n",
    "plt.xlabel('MedInc')\n",
    "plt.ylabel('MedHouseVal')\n",
    "plt.title('Train set')\n",
    "plt.plot(X_train, y_hat_train)"
   ]
  },
  {
   "cell_type": "code",
   "execution_count": 198,
   "metadata": {
    "id": "dFM6bYv5zA8J"
   },
   "outputs": [],
   "source": [
    "y_hat_test = lin_reg.predict(X_test)"
   ]
  },
  {
   "cell_type": "code",
   "execution_count": 199,
   "metadata": {
    "colab": {
     "base_uri": "https://localhost:8080/",
     "height": 421
    },
    "id": "TP4MHZoHzA5t",
    "outputId": "0acebd47-459e-4ec2-d426-11ca5b8f1f59"
   },
   "outputs": [
    {
     "data": {
      "text/plain": [
       "[<matplotlib.lines.Line2D at 0x7fa8f7e7fbd0>]"
      ]
     },
     "execution_count": 199,
     "metadata": {},
     "output_type": "execute_result"
    },
    {
     "data": {
      "image/png": "[encoded data removed]",
      "text/plain": [
       "<Figure size 720x432 with 1 Axes>"
      ]
     },
     "metadata": {
      "needs_background": "light"
     },
     "output_type": "display_data"
    }
   ],
   "source": [
    "plt.figure(figsize=(10, 6))\n",
    "plt.scatter(X_test, y_test)\n",
    "plt.xlabel('MedInc')\n",
    "plt.ylabel('MedHouseVal')\n",
    "plt.title('Test set')\n",
    "plt.plot(X_test, y_hat_test)"
   ]
  },
  {
   "cell_type": "code",
   "execution_count": 200,
   "metadata": {
    "id": "nf06NXCC4gnu"
   },
   "outputs": [],
   "source": [
    "y_hat_train = reg.predict(X_train)"
   ]
  },
  {
   "cell_type": "code",
   "execution_count": 201,
   "metadata": {
    "id": "giMKVor341Gs"
   },
   "outputs": [],
   "source": [
    "resid = y_hat_train-y_train.squeeze()"
   ]
  },
  {
   "cell_type": "markdown",
   "metadata": {
    "id": "3xsmTRwnXnPB"
   },
   "source": [
    "Кога използваме хистограма и кога колонна\n",
    "диаграмa (bar chart)?\n",
    "\n",
    "Хистограмата се използва за показване на графично представяне, под формата на честота; а колонната диаграма представя данните и информацията, като се използва за сравнение на категории."
   ]
  },
  {
   "cell_type": "code",
   "execution_count": 202,
   "metadata": {
    "colab": {
     "base_uri": "https://localhost:8080/",
     "height": 265
    },
    "id": "iuSZ_yHw45lx",
    "outputId": "82b85e4d-2f7c-4072-a53e-d105bbd69178"
   },
   "outputs": [
    {
     "data": {
      "image/png": "[encoded data removed]",
      "text/plain": [
       "<Figure size 432x288 with 1 Axes>"
      ]
     },
     "metadata": {
      "needs_background": "light"
     },
     "output_type": "display_data"
    }
   ],
   "source": [
    "plt.hist(resid, bins='fd')\n",
    "plt.show()"
   ]
  },
  {
   "cell_type": "markdown",
   "metadata": {
    "id": "wO-5_bcLzv_m"
   },
   "source": [
    "Коефициент на детерминация  = измерва каква част от грешката при прогнозата е елиминирана. Диапазона и е между 0 и 1. При полученият в момента резултат модела се определя като среден."
   ]
  },
  {
   "cell_type": "code",
   "execution_count": 203,
   "metadata": {
    "colab": {
     "base_uri": "https://localhost:8080/"
    },
    "id": "dYQAX2oCzp84",
    "outputId": "32de59a8-bbcb-4982-97d9-a9dd00f66d04"
   },
   "outputs": [
    {
     "data": {
      "text/plain": [
       "0.46995381013288307"
      ]
     },
     "execution_count": 203,
     "metadata": {},
     "output_type": "execute_result"
    }
   ],
   "source": [
    "lin_reg.score(X_train, y_train)"
   ]
  },
  {
   "cell_type": "markdown",
   "metadata": {
    "id": "w5pjMyHDz0y2"
   },
   "source": [
    "MSE - средноквадратична грешка"
   ]
  },
  {
   "cell_type": "code",
   "execution_count": 204,
   "metadata": {
    "colab": {
     "base_uri": "https://localhost:8080/"
    },
    "id": "Ro51wFq0z2_6",
    "outputId": "fbc46cd2-b6cc-4c05-e7b4-93d763036c78"
   },
   "outputs": [
    {
     "data": {
      "text/plain": [
       "0.7588349778616446"
      ]
     },
     "execution_count": 204,
     "metadata": {},
     "output_type": "execute_result"
    }
   ],
   "source": [
    "mean_squared_error(y_hat_train, y_train)"
   ]
  },
  {
   "cell_type": "code",
   "execution_count": 205,
   "metadata": {
    "colab": {
     "base_uri": "https://localhost:8080/"
    },
    "id": "9lpdFpIMz29P",
    "outputId": "83c92be3-9f22-4543-d6de-9e27e79c90bf"
   },
   "outputs": [
    {
     "data": {
      "text/plain": [
       "0.6599185649568535"
      ]
     },
     "execution_count": 205,
     "metadata": {},
     "output_type": "execute_result"
    }
   ],
   "source": [
    "mean_squared_error(y_hat_test, y_test)"
   ]
  },
  {
   "cell_type": "code",
   "execution_count": null,
   "metadata": {
    "id": "bpENz4oIz27A"
   },
   "outputs": [],
   "source": []
  },
  {
   "cell_type": "code",
   "execution_count": null,
   "metadata": {
    "id": "pmzLeLLqz236"
   },
   "outputs": [],
   "source": []
  },
  {
   "cell_type": "code",
   "execution_count": null,
   "metadata": {
    "id": "stqeVCzQz21f"
   },
   "outputs": [],
   "source": []
  },
  {
   "cell_type": "code",
   "execution_count": null,
   "metadata": {
    "id": "-c62bcXmz2yn"
   },
   "outputs": [],
   "source": []
  },
  {
   "cell_type": "code",
   "execution_count": null,
   "metadata": {
    "id": "OXXIL6LGz2vs"
   },
   "outputs": [],
   "source": []
  }
 ],
 "metadata": {
  "colab": {
   "collapsed_sections": [],
   "name": "Kontrolno 1.ipynb",
   "provenance": []
  },
  "kernelspec": {
   "display_name": "Python 3 (ipykernel)",
   "language": "python",
   "name": "python3"
  },
  "language_info": {
   "codemirror_mode": {
    "name": "ipython",
    "version": 3
   },
   "file_extension": ".py",
   "mimetype": "text/x-python",
   "name": "python",
   "nbconvert_exporter": "python",
   "pygments_lexer": "ipython3",
   "version": "3.11.5"
  }
 },
 "nbformat": 4,
 "nbformat_minor": 4
}
